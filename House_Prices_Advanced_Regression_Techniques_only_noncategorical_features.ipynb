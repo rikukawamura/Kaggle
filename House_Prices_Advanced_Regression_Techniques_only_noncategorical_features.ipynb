{
  "nbformat": 4,
  "nbformat_minor": 0,
  "metadata": {
    "colab": {
      "name": "House Prices - Advanced Regression Techniques_only_noncategorical_features.ipynb",
      "provenance": [],
      "collapsed_sections": [],
      "mount_file_id": "1tPZXUGAz-Shsa2hYX8XBx5K7PE0tASFG",
      "authorship_tag": "ABX9TyODzGgRJc+ANY7CBaokTksT",
      "include_colab_link": true
    },
    "kernelspec": {
      "name": "python3",
      "display_name": "Python 3"
    }
  },
  "cells": [
    {
      "cell_type": "markdown",
      "metadata": {
        "id": "view-in-github",
        "colab_type": "text"
      },
      "source": [
        "<a href=\"https://colab.research.google.com/github/rikukawamura/Kaggle/blob/main/House_Prices_Advanced_Regression_Techniques_only_noncategorical_features.ipynb\" target=\"_parent\"><img src=\"https://colab.research.google.com/assets/colab-badge.svg\" alt=\"Open In Colab\"/></a>"
      ]
    },
    {
      "cell_type": "code",
      "metadata": {
        "id": "kvr3Jd3b-qi8"
      },
      "source": [
        "import numpy as np\n",
        "import pandas as pd\n",
        "from matplotlib import pyplot as plt\n",
        "import seaborn as sns\n",
        "from sklearn.preprocessing import PowerTransformer\n",
        "import xgboost as xgb"
      ],
      "execution_count": null,
      "outputs": []
    },
    {
      "cell_type": "code",
      "metadata": {
        "id": "BjwNKY0A_0Ey"
      },
      "source": [
        "# DataFrameの表示を省略しないようにする\n",
        "pd.set_option('display.max_columns', None)\n",
        "pd.set_option('display.max_rows', None)"
      ],
      "execution_count": null,
      "outputs": []
    },
    {
      "cell_type": "code",
      "metadata": {
        "id": "l6ONl3Qo_zqS"
      },
      "source": [
        "train = pd.read_csv(\"/content/drive/MyDrive/Kaggle datasets/House Prices/train.csv\")\n",
        "test = pd.read_csv(\"/content/drive/MyDrive/Kaggle datasets/House Prices/test.csv\")"
      ],
      "execution_count": null,
      "outputs": []
    },
    {
      "cell_type": "code",
      "metadata": {
        "colab": {
          "base_uri": "https://localhost:8080/"
        },
        "id": "6xjSMNqaAEoP",
        "outputId": "0ea7cc6e-a9ee-46cb-beb9-281b7125c2a8"
      },
      "source": [
        "# test_columnsの\"SalePrice\"を予想するのが，本コンペのやるべき事\n",
        "train_columns = train.columns\n",
        "test_columns = test.columns\n",
        "#print(train_columns, len(train_columns))\n",
        "#print(test_columns, len(test_columns))\n",
        "train_categorical_features = list(train.select_dtypes(include=object).columns)\n",
        "train_non_categorical_features =  [col for col in train.columns if col not in train_categorical_features and col not in ['Id', 'SalePrice']]\n",
        "test_categorical_features = list(test.select_dtypes(include=object).columns)\n",
        "test_non_categorical_features =  [col for col in test.columns if col not in test_categorical_features and col not in ['Id']]\n",
        "train_label = train['SalePrice']\n",
        "print(train_categorical_features, len(train_categorical_features))\n",
        "print(train_non_categorical_features, len(train_non_categorical_features))\n",
        "print(test_categorical_features, len(test_categorical_features))\n",
        "print(test_non_categorical_features, len(test_non_categorical_features))\n",
        "print(train_categorical_features == test_categorical_features)\n",
        "print(train_non_categorical_features == test_non_categorical_features)"
      ],
      "execution_count": null,
      "outputs": [
        {
          "output_type": "stream",
          "text": [
            "['MSZoning', 'Street', 'Alley', 'LotShape', 'LandContour', 'Utilities', 'LotConfig', 'LandSlope', 'Neighborhood', 'Condition1', 'Condition2', 'BldgType', 'HouseStyle', 'RoofStyle', 'RoofMatl', 'Exterior1st', 'Exterior2nd', 'MasVnrType', 'ExterQual', 'ExterCond', 'Foundation', 'BsmtQual', 'BsmtCond', 'BsmtExposure', 'BsmtFinType1', 'BsmtFinType2', 'Heating', 'HeatingQC', 'CentralAir', 'Electrical', 'KitchenQual', 'Functional', 'FireplaceQu', 'GarageType', 'GarageFinish', 'GarageQual', 'GarageCond', 'PavedDrive', 'PoolQC', 'Fence', 'MiscFeature', 'SaleType', 'SaleCondition'] 43\n",
            "['MSSubClass', 'LotFrontage', 'LotArea', 'OverallQual', 'OverallCond', 'YearBuilt', 'YearRemodAdd', 'MasVnrArea', 'BsmtFinSF1', 'BsmtFinSF2', 'BsmtUnfSF', 'TotalBsmtSF', '1stFlrSF', '2ndFlrSF', 'LowQualFinSF', 'GrLivArea', 'BsmtFullBath', 'BsmtHalfBath', 'FullBath', 'HalfBath', 'BedroomAbvGr', 'KitchenAbvGr', 'TotRmsAbvGrd', 'Fireplaces', 'GarageYrBlt', 'GarageCars', 'GarageArea', 'WoodDeckSF', 'OpenPorchSF', 'EnclosedPorch', '3SsnPorch', 'ScreenPorch', 'PoolArea', 'MiscVal', 'MoSold', 'YrSold'] 36\n",
            "['MSZoning', 'Street', 'Alley', 'LotShape', 'LandContour', 'Utilities', 'LotConfig', 'LandSlope', 'Neighborhood', 'Condition1', 'Condition2', 'BldgType', 'HouseStyle', 'RoofStyle', 'RoofMatl', 'Exterior1st', 'Exterior2nd', 'MasVnrType', 'ExterQual', 'ExterCond', 'Foundation', 'BsmtQual', 'BsmtCond', 'BsmtExposure', 'BsmtFinType1', 'BsmtFinType2', 'Heating', 'HeatingQC', 'CentralAir', 'Electrical', 'KitchenQual', 'Functional', 'FireplaceQu', 'GarageType', 'GarageFinish', 'GarageQual', 'GarageCond', 'PavedDrive', 'PoolQC', 'Fence', 'MiscFeature', 'SaleType', 'SaleCondition'] 43\n",
            "['MSSubClass', 'LotFrontage', 'LotArea', 'OverallQual', 'OverallCond', 'YearBuilt', 'YearRemodAdd', 'MasVnrArea', 'BsmtFinSF1', 'BsmtFinSF2', 'BsmtUnfSF', 'TotalBsmtSF', '1stFlrSF', '2ndFlrSF', 'LowQualFinSF', 'GrLivArea', 'BsmtFullBath', 'BsmtHalfBath', 'FullBath', 'HalfBath', 'BedroomAbvGr', 'KitchenAbvGr', 'TotRmsAbvGrd', 'Fireplaces', 'GarageYrBlt', 'GarageCars', 'GarageArea', 'WoodDeckSF', 'OpenPorchSF', 'EnclosedPorch', '3SsnPorch', 'ScreenPorch', 'PoolArea', 'MiscVal', 'MoSold', 'YrSold'] 36\n",
            "True\n",
            "True\n"
          ],
          "name": "stdout"
        }
      ]
    },
    {
      "cell_type": "code",
      "metadata": {
        "id": "4YU5GhpNBVSr"
      },
      "source": [
        "# modelにxgboostを採用\n",
        "model = xgb.XGBRegressor(colsample_bytree=0.4,\n",
        "                 gamma=0,                 \n",
        "                 learning_rate=0.07,\n",
        "                 max_depth=3,\n",
        "                 min_child_weight=1.5,\n",
        "                 n_estimators=10000,                                                                    \n",
        "                 reg_alpha=0.75,\n",
        "                 reg_lambda=0.45,\n",
        "                 subsample=0.6,\n",
        "                 seed=42) "
      ],
      "execution_count": null,
      "outputs": []
    },
    {
      "cell_type": "code",
      "metadata": {
        "id": "ZzMf0zEaTA_y"
      },
      "source": [
        "print(train[train_non_categorical_features])"
      ],
      "execution_count": null,
      "outputs": []
    },
    {
      "cell_type": "code",
      "metadata": {
        "id": "vho8wm9eS3Vq"
      },
      "source": [
        "model.fit(train[train_non_categorical_features], train_label)"
      ],
      "execution_count": null,
      "outputs": []
    },
    {
      "cell_type": "code",
      "metadata": {
        "id": "BlB_jvmNTbKr"
      },
      "source": [
        "test_prediction = model.predict(test[train_non_categorical_features])"
      ],
      "execution_count": null,
      "outputs": []
    },
    {
      "cell_type": "code",
      "metadata": {
        "id": "NOmP9yNYUp-r"
      },
      "source": [
        "test_prediction.shape\n",
        "print(test_prediction)"
      ],
      "execution_count": null,
      "outputs": []
    },
    {
      "cell_type": "code",
      "metadata": {
        "id": "yjQKFc_oVmxC"
      },
      "source": [
        "pd.DataFrame({'Id': test.Id, 'SalePrice': test_prediction}).to_csv('submission2.csv', index=False)"
      ],
      "execution_count": null,
      "outputs": []
    }
  ]
}